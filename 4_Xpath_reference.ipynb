{
 "cells": [
  {
   "cell_type": "markdown",
   "id": "49858e93-130f-4144-ab68-bf74a3f1bf98",
   "metadata": {},
   "source": [
    "# XPath Reference Sheet\n",
    "\n",
    "XPath is a language for selecting elements on XML document. Although XML is rarely used in websites nowadays, XPath is still widely used for selecting elements on HTML since XML and HTML have the same structure - both are built by tags. \n",
    "\n",
    "\n",
    "\n",
    "---\n",
    "## 1. Basic selectors:\n",
    "\n",
    "- `tagName` = All element with the tag `<tagName>`\n",
    "\n",
    "- `/` = The root element. In HTML it is the `<html>` tag.\n",
    "\n",
    "- `/parent/tagName` = Select the tag with name `<tagName>` base on an absolute path\n",
    "\n",
    "- `parent/tagName` = All children of `<parent>` that is a tag with name `<tagName>` \n",
    "\n",
    "- `//tagName` = All `<tagName>` element in the document. i.e. all descendant under root.\n",
    "\n",
    "- `parent//tagName` = All descendant of `<parent>` that with a tag `<tagName>`\n",
    "\n",
    "- `.` = current element\n",
    "\n",
    "- `tagName/..` = parent of `<tagName>`\n",
    "\n",
    "**Note that attributes are treated as individual nodes in XPath.** So attributes have their own selectors. The return is **the value of the attribute**.\n",
    "\n",
    "- `tagName@` = All attribute in the tag `<tagName>`\n",
    "\n",
    "- `tagName@attr` = select the attribute node named `attr`\n",
    "\n",
    "- `parent//@attr` = select all attribute nodes named `attr` under `<parent>`\n",
    "\n",
    "\n",
    "The selection of an element will return the text content and also the outer HTML tag (i.e. the `outerHTML` in JavaScript). To get only the text content, use `text()`, because text content are also a node in HTML.\n",
    "\n",
    "- `tagName/text()` = all the text content under `<tagName>`. Include the text of children of all level under `<tagName>` "
   ]
  },
  {
   "cell_type": "markdown",
   "id": "4012affb-9e34-4b37-ba06-e5ed069247af",
   "metadata": {},
   "source": [
    "---\n",
    "## 2. Predicate\n",
    "For isolating the specific nodes that satisfy certain condition. Always use `[]` to carry the conditions.\n",
    "\n",
    "- `parent/tagName[n]` = The nth `<tagName>` that is the child under `<parent>`. **Note that index begins with 1 in XPath.**\n",
    "\n",
    "- `parent/tagName[last()]` = The last `<tagName>` that is the child under `<parent>`.\n",
    "\n",
    "\n",
    "- `parent/tagName[position()<n]` = All the first n-1 `<tagName>` that are the children under `<parent>`.\n",
    "\n",
    "- `tagName[@attr]` = Any `<tagName>` that contain an attribute called `attr`.\n",
    "\n",
    "- `tagName[@attr = 'value']` = Any `<tagName>` that contain an attribute called `attr` whose value is `value`. \n",
    "\n",
    "- `tagName[child>15.00]` = Any `<tagName>` that has a child node whose value is larger than 15.00."
   ]
  },
  {
   "cell_type": "markdown",
   "id": "f8c07b47-093e-4528-adbd-38ba2fd9f790",
   "metadata": {},
   "source": [
    "---\n",
    "## 3. Operators\n",
    "We can use these operators **inside the predicate** to do mathematic operations.\n",
    "\n",
    "- `+`, `-`, `*`, `div`, `mod` = Addition / Subtraction / Multiplication / Division / Modulus\n",
    "\n",
    "- `=`, `!=` = Equal / Not equal\n",
    "\n",
    "- `<`, `<=`, `>`, `>=` = Less than / Less than or equal to / Greater than / Greater than or equal to\n",
    "\n",
    "- `and`, `or` = For supplying multiple conditions"
   ]
  },
  {
   "cell_type": "markdown",
   "id": "f5e454ca-5823-4d03-9d8e-0bd3143bffaf",
   "metadata": {},
   "source": [
    "---\n",
    "## 4. Wildcard\n",
    "\n",
    "These wildcards are commonly used to replace the node name:\n",
    "- `*` = any element node\n",
    "- `@*` = any attribute node\n",
    "- `node()` = any node of any kind\n",
    "\n",
    "For example,\n",
    "- `parent/*` = All child under `<parent>`.\n",
    "- `//*` = All element node in the document.\n",
    "- `//tagName[@*]` = All node with name `<tagName>` which contain at least one attribute. The kinds of attribute does not matter."
   ]
  },
  {
   "cell_type": "markdown",
   "id": "8da84e67-ec67-4d53-97e5-fe9f710a2250",
   "metadata": {},
   "source": [
    "---\n",
    "## 5. Intext search\n",
    "XPath supports intext search as well.\n",
    "\n",
    "- `//tagName[contains(.,\"str\")]` = All `<tagName>` that (in current node) contains the string `\"str\"` (case-sensitive).\n",
    "\n",
    "- `//tagName[starts-with(.,\"str\")]` = All `<tagName>` that (in current node) starts with the string `\"str\"` (case-sensitive).\n",
    "\n",
    "- `//tagName[ends-with(.,\"str\")]` = All `<tagName>` that (in current node) ends with the string `\"str\"` (case-sensitive).\n",
    "\n",
    "- `//tagName[matches(.,\"str\")]` = All `<tagName>` whose (in current node) text match exactly the string `\"str\"` (case-sensitive)."
   ]
  },
  {
   "cell_type": "markdown",
   "id": "8a0422ac-bdc6-4e8d-bdbb-31ff96d6e488",
   "metadata": {},
   "source": [
    "---\n",
    "## 6. Axes\n",
    "Instead of using the basic selectors, XPath also provides the full syntax for accessing relations between tree nodes, which is called \"axis\". It can be used to locate a node relative to the current node. The syntax goes by\n",
    "\n",
    "```\n",
    "axesName::current-node-name\n",
    "```\n",
    "\n",
    "There are 13 axis names in total.\n",
    "\n",
    "- `self` = the context node itself\n",
    "- `child` = all children of the context node\n",
    "- `descendant` = all descendants (children+)\n",
    "- `parent` = the parent (empty if at the root)\n",
    "- `ancestor` = all ancestors from the parent to the root\n",
    "- `descendant‐or‐self` = the union of descendant and self \n",
    "- `ancestor‐or‐self = the union of ancestor and self\n",
    "- `following‐sibling` = all siblings to the right\n",
    "- `preceding‐sibling` = all siblings to the left\n",
    "- `following` = all following nodes in the document, excluding descendants\n",
    "- `preceding` = all preceding nodes in the document, excluding ancestors \n",
    "- `attribute` = all the attributes of the context node\n",
    "\n",
    "\n",
    "![tree](https://jrebecchi.github.io/xpath-helper/_images/xpath-axes.jpg)\n",
    "\n",
    "Picture retrieved from https://jrebecchi.github.io/xpath-helper/xpath-axes.html."
   ]
  }
 ],
 "metadata": {
  "kernelspec": {
   "display_name": "Python 3 (ipykernel)",
   "language": "python",
   "name": "python3"
  },
  "language_info": {
   "codemirror_mode": {
    "name": "ipython",
    "version": 3
   },
   "file_extension": ".py",
   "mimetype": "text/x-python",
   "name": "python",
   "nbconvert_exporter": "python",
   "pygments_lexer": "ipython3",
   "version": "3.11.5"
  }
 },
 "nbformat": 4,
 "nbformat_minor": 5
}
